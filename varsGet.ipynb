{
 "cells": [
  {
   "cell_type": "code",
   "execution_count": null,
   "metadata": {
    "collapsed": true,
    "deletable": true,
    "editable": true
   },
   "outputs": [],
   "source": [
    "import subprocess"
   ]
  },
  {
   "cell_type": "code",
   "execution_count": null,
   "metadata": {
    "collapsed": true,
    "deletable": true,
    "editable": true
   },
   "outputs": [],
   "source": [
    "result = subprocess.run(['xcrun', 'simctl', 'list'], stdout=subprocess.PIPE)\n",
    "# print(result.stdout)"
   ]
  },
  {
   "cell_type": "code",
   "execution_count": null,
   "metadata": {
    "collapsed": false,
    "deletable": true,
    "editable": true
   },
   "outputs": [],
   "source": [
    "resultLongString = result.stdout.decode(\"utf-8\")\n",
    "resultStrings = resultLongString.split(\"\\n\")\n",
    "# print(resultStrings)"
   ]
  },
  {
   "cell_type": "code",
   "execution_count": null,
   "metadata": {
    "collapsed": false,
    "deletable": true,
    "editable": true
   },
   "outputs": [],
   "source": [
    "start = resultStrings.index('== Devices ==')\n",
    "end = resultStrings.index('== Device Pairs ==')\n",
    "selectStrings = resultStrings[start + 1:end]\n",
    "selectStrings.append('--')\n",
    "# for string in selectStrings:\n",
    "#     print(string)"
   ]
  },
  {
   "cell_type": "code",
   "execution_count": null,
   "metadata": {
    "collapsed": false,
    "deletable": true,
    "editable": true
   },
   "outputs": [],
   "source": [
    "simulatorDict = {}\n",
    "\n",
    "key = ''\n",
    "simulators = []\n",
    "\n",
    "for string in selectStrings:\n",
    "    if string.startswith('--') and string.endswith('--'):\n",
    "        if len(key) > 0 and len(simulators) > 0:\n",
    "            simulatorDict[key] = simulators\n",
    "        key = string\n",
    "        simulators = []\n",
    "    elif 'unavailable' not in string:\n",
    "        simulators.append(string)\n",
    "\n",
    "keys = list(simulatorDict.keys())\n",
    "for key in keys:\n",
    "    if 'Unavailable' in key:\n",
    "        simulatorDict.pop(key, None)\n",
    "    \n",
    "    if 'iOS' not in key:\n",
    "        simulatorDict.pop(key, None)\n",
    "        \n",
    "for key in simulatorDict.keys():\n",
    "    print(key)\n",
    "    for sim in simulatorDict[key]:\n",
    "        print(sim)"
   ]
  },
  {
   "cell_type": "code",
   "execution_count": null,
   "metadata": {
    "collapsed": false,
    "deletable": true,
    "editable": true
   },
   "outputs": [],
   "source": [
    "import os\n",
    "for key in os.environ.keys():\n",
    "    print(key, ' >> ', os.environ[key])"
   ]
  },
  {
   "cell_type": "code",
   "execution_count": null,
   "metadata": {
    "collapsed": true,
    "deletable": true,
    "editable": true
   },
   "outputs": [],
   "source": []
  }
 ],
 "metadata": {
  "kernelspec": {
   "display_name": "Python 3",
   "language": "python",
   "name": "python3"
  },
  "language_info": {
   "codemirror_mode": {
    "name": "ipython",
    "version": 3
   },
   "file_extension": ".py",
   "mimetype": "text/x-python",
   "name": "python",
   "nbconvert_exporter": "python",
   "pygments_lexer": "ipython3",
   "version": "3.6.2"
  }
 },
 "nbformat": 4,
 "nbformat_minor": 2
}
